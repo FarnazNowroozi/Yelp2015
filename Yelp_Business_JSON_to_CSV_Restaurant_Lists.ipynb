{
 "cells": [
  {
   "cell_type": "code",
   "execution_count": 2,
   "metadata": {
    "collapsed": false
   },
   "outputs": [
    {
     "name": "stdout",
     "output_type": "stream",
     "text": [
      "['{\"business_id\": \"vcNAWiLM4dR7D2nwwJ7nCA\", \"full_address\": \"4840 E Indian School Rd\\\\nSte 101\\\\nPhoenix, AZ 85018\", \"hours\": {\"Tuesday\": {\"close\": \"17:00\", \"open\": \"08:00\"}, \"Friday\": {\"close\": \"17:00\", \"open\": \"08:00\"}, \"Monday\": {\"close\": \"17:00\", \"open\": \"08:00\"}, \"Wednesday\": {\"close\": \"17:00\", \"open\": \"08:00\"}, \"Thursday\": {\"close\": \"17:00\", \"open\": \"08:00\"}}, \"open\": true, \"categories\": [\"Doctors\", \"Health & Medical\"], \"city\": \"Phoenix\", \"review_count\": 9, \"name\": \"Eric Goldberg, MD\", \"neighborhoods\": [], \"longitude\": -111.98375799999999, \"state\": \"AZ\", \"stars\": 3.5, \"latitude\": 33.499313000000001, \"attributes\": {\"By Appointment Only\": true}, \"type\": \"business\"}\\n', '{\"business_id\": \"UsFtqoBl7naz8AVUBZMjQQ\", \"full_address\": \"202 McClure St\\\\nDravosburg, PA 15034\", \"hours\": {}, \"open\": true, \"categories\": [\"Nightlife\"], \"city\": \"Dravosburg\", \"review_count\": 4, \"name\": \"Clancy\\'s Pub\", \"neighborhoods\": [], \"longitude\": -79.886930000000007, \"state\": \"PA\", \"stars\": 3.5, \"latitude\": 40.350518999999998, \"attributes\": {\"Happy Hour\": true, \"Accepts Credit Cards\": true, \"Good For Groups\": true, \"Outdoor Seating\": false, \"Price Range\": 1}, \"type\": \"business\"}\\n']\n"
     ]
    }
   ],
   "source": [
    "import pandas as pd\n",
    "\n",
    "# read the entire file into a python array\n",
    "with open('yelp_academic_dataset_business.json', 'rb') as f:\n",
    "    data = f.readlines()\n",
    "    \n",
    "print data[0:2]"
   ]
  },
  {
   "cell_type": "code",
   "execution_count": 3,
   "metadata": {
    "collapsed": false
   },
   "outputs": [
    {
     "name": "stdout",
     "output_type": "stream",
     "text": [
      "['{\"business_id\": \"vcNAWiLM4dR7D2nwwJ7nCA\", \"full_address\": \"4840 E Indian School Rd\\\\nSte 101\\\\nPhoenix, AZ 85018\", \"hours\": {\"Tuesday\": {\"close\": \"17:00\", \"open\": \"08:00\"}, \"Friday\": {\"close\": \"17:00\", \"open\": \"08:00\"}, \"Monday\": {\"close\": \"17:00\", \"open\": \"08:00\"}, \"Wednesday\": {\"close\": \"17:00\", \"open\": \"08:00\"}, \"Thursday\": {\"close\": \"17:00\", \"open\": \"08:00\"}}, \"open\": true, \"categories\": [\"Doctors\", \"Health & Medical\"], \"city\": \"Phoenix\", \"review_count\": 9, \"name\": \"Eric Goldberg, MD\", \"neighborhoods\": [], \"longitude\": -111.98375799999999, \"state\": \"AZ\", \"stars\": 3.5, \"latitude\": 33.499313000000001, \"attributes\": {\"By Appointment Only\": true}, \"type\": \"business\"}', '{\"business_id\": \"UsFtqoBl7naz8AVUBZMjQQ\", \"full_address\": \"202 McClure St\\\\nDravosburg, PA 15034\", \"hours\": {}, \"open\": true, \"categories\": [\"Nightlife\"], \"city\": \"Dravosburg\", \"review_count\": 4, \"name\": \"Clancy\\'s Pub\", \"neighborhoods\": [], \"longitude\": -79.886930000000007, \"state\": \"PA\", \"stars\": 3.5, \"latitude\": 40.350518999999998, \"attributes\": {\"Happy Hour\": true, \"Accepts Credit Cards\": true, \"Good For Groups\": true, \"Outdoor Seating\": false, \"Price Range\": 1}, \"type\": \"business\"}']\n"
     ]
    }
   ],
   "source": [
    "# remove the trailing \"\\n\" from each line\n",
    "data = map(lambda x: x.rstrip(), data)\n",
    "\n",
    "print data[:2]"
   ]
  },
  {
   "cell_type": "code",
   "execution_count": 4,
   "metadata": {
    "collapsed": false
   },
   "outputs": [
    {
     "data": {
      "text/html": [
       "<div>\n",
       "<table border=\"1\" class=\"dataframe\">\n",
       "  <thead>\n",
       "    <tr style=\"text-align: right;\">\n",
       "      <th></th>\n",
       "      <th>attributes</th>\n",
       "      <th>business_id</th>\n",
       "      <th>categories</th>\n",
       "      <th>city</th>\n",
       "      <th>full_address</th>\n",
       "      <th>hours</th>\n",
       "      <th>latitude</th>\n",
       "      <th>longitude</th>\n",
       "      <th>name</th>\n",
       "      <th>neighborhoods</th>\n",
       "      <th>open</th>\n",
       "      <th>review_count</th>\n",
       "      <th>stars</th>\n",
       "      <th>state</th>\n",
       "      <th>type</th>\n",
       "    </tr>\n",
       "  </thead>\n",
       "  <tbody>\n",
       "    <tr>\n",
       "      <th>0</th>\n",
       "      <td>{u'By Appointment Only': True}</td>\n",
       "      <td>vcNAWiLM4dR7D2nwwJ7nCA</td>\n",
       "      <td>[Doctors, Health &amp; Medical]</td>\n",
       "      <td>Phoenix</td>\n",
       "      <td>4840 E Indian School Rd\\nSte 101\\nPhoenix, AZ ...</td>\n",
       "      <td>{u'Tuesday': {u'close': u'17:00', u'open': u'0...</td>\n",
       "      <td>33.499313</td>\n",
       "      <td>-111.983758</td>\n",
       "      <td>Eric Goldberg, MD</td>\n",
       "      <td>[]</td>\n",
       "      <td>True</td>\n",
       "      <td>9</td>\n",
       "      <td>3.5</td>\n",
       "      <td>AZ</td>\n",
       "      <td>business</td>\n",
       "    </tr>\n",
       "    <tr>\n",
       "      <th>1</th>\n",
       "      <td>{u'Happy Hour': True, u'Accepts Credit Cards':...</td>\n",
       "      <td>UsFtqoBl7naz8AVUBZMjQQ</td>\n",
       "      <td>[Nightlife]</td>\n",
       "      <td>Dravosburg</td>\n",
       "      <td>202 McClure St\\nDravosburg, PA 15034</td>\n",
       "      <td>{}</td>\n",
       "      <td>40.350519</td>\n",
       "      <td>-79.886930</td>\n",
       "      <td>Clancy's Pub</td>\n",
       "      <td>[]</td>\n",
       "      <td>True</td>\n",
       "      <td>4</td>\n",
       "      <td>3.5</td>\n",
       "      <td>PA</td>\n",
       "      <td>business</td>\n",
       "    </tr>\n",
       "  </tbody>\n",
       "</table>\n",
       "</div>"
      ],
      "text/plain": [
       "                                          attributes             business_id  \\\n",
       "0                     {u'By Appointment Only': True}  vcNAWiLM4dR7D2nwwJ7nCA   \n",
       "1  {u'Happy Hour': True, u'Accepts Credit Cards':...  UsFtqoBl7naz8AVUBZMjQQ   \n",
       "\n",
       "                    categories        city  \\\n",
       "0  [Doctors, Health & Medical]     Phoenix   \n",
       "1                  [Nightlife]  Dravosburg   \n",
       "\n",
       "                                        full_address  \\\n",
       "0  4840 E Indian School Rd\\nSte 101\\nPhoenix, AZ ...   \n",
       "1               202 McClure St\\nDravosburg, PA 15034   \n",
       "\n",
       "                                               hours   latitude   longitude  \\\n",
       "0  {u'Tuesday': {u'close': u'17:00', u'open': u'0...  33.499313 -111.983758   \n",
       "1                                                 {}  40.350519  -79.886930   \n",
       "\n",
       "                name neighborhoods  open  review_count  stars state      type  \n",
       "0  Eric Goldberg, MD            []  True             9    3.5    AZ  business  \n",
       "1       Clancy's Pub            []  True             4    3.5    PA  business  "
      ]
     },
     "execution_count": 4,
     "metadata": {},
     "output_type": "execute_result"
    }
   ],
   "source": [
    "# each element of 'data' is an individual JSON object.\n",
    "# i want to convert it into an *array* of JSON objects\n",
    "# which, in and of itself, is one large JSON object\n",
    "# basically... add square brackets to the beginning\n",
    "# and end, and have all the individual business JSON objects\n",
    "# separated by a comma\n",
    "data_json_str = \"[\" + ','.join(data) + \"]\"\n",
    "\n",
    "# now, load it into pandas\n",
    "df = pd.read_json(data_json_str)\n",
    "\n",
    "df[:2]"
   ]
  },
  {
   "cell_type": "code",
   "execution_count": 8,
   "metadata": {
    "collapsed": false
   },
   "outputs": [
    {
     "data": {
      "text/plain": [
       "61184"
      ]
     },
     "execution_count": 8,
     "metadata": {},
     "output_type": "execute_result"
    }
   ],
   "source": [
    "len(df.state)"
   ]
  },
  {
   "cell_type": "code",
   "execution_count": 11,
   "metadata": {
    "collapsed": false
   },
   "outputs": [
    {
     "data": {
      "text/plain": [
       "array([u'AZ', u'PA', u'NC', u'SC', u'WI', u'IL', u'NV', u'WA', u'CA',\n",
       "       u'QC', u'ON', u'EDH', u'MLN', u'ELN', u'HAM', u'SCB', u'FIF',\n",
       "       u'XGL', u'NTH', u'BW', u'RP', u'KHL', u'MN', u'MA', u'NW', u'OR'], dtype=object)"
      ]
     },
     "execution_count": 11,
     "metadata": {},
     "output_type": "execute_result"
    }
   ],
   "source": [
    "#There's an issue with German reviews being in German... so let's filter out everything \n",
    "#except USA and Ontario. (Edinburgh should be ok, but let's cut in case review writing style differs.)\n",
    "\n",
    "df.state.unique()"
   ]
  },
  {
   "cell_type": "code",
   "execution_count": 12,
   "metadata": {
    "collapsed": false
   },
   "outputs": [
    {
     "name": "stdout",
     "output_type": "stream",
     "text": [
      "13 13 26\n"
     ]
    }
   ],
   "source": [
    "skipState = ['QC', 'EDH', 'MLN', 'ELN', 'HAM', 'SCB', 'FIF', 'XGL', 'NTH', 'BW', 'RP', 'KHL', 'NW']\n",
    "keepState = ['AZ', 'PA', 'NC', 'SC', 'WI', 'IL', 'NV', 'WA', 'CA', 'ON', 'MN', 'MA', 'OR']\n",
    "print len(skipState), len(keepState), len(df.state.unique())"
   ]
  },
  {
   "cell_type": "code",
   "execution_count": 27,
   "metadata": {
    "collapsed": false
   },
   "outputs": [
    {
     "name": "stdout",
     "output_type": "stream",
     "text": [
      "(61184, 15)\n",
      "53200 7984 61184 0.130491631799\n"
     ]
    }
   ],
   "source": [
    "print df.shape\n",
    "#print df[df.state in keepState].shape\n",
    "a = len(df[df.state.map(lambda x: x in keepState)])\n",
    "b = len(df[df.state.map(lambda x: x in skipState)])\n",
    "print a,b,a+b, (b*1.0)/(a+b)"
   ]
  },
  {
   "cell_type": "markdown",
   "metadata": {},
   "source": [
    "Awesome, so filtering out these things outside USA/Ontario, we only lose 13% of reviews."
   ]
  },
  {
   "cell_type": "code",
   "execution_count": 29,
   "metadata": {
    "collapsed": false
   },
   "outputs": [
    {
     "data": {
      "text/plain": [
       "(53200, 15)"
      ]
     },
     "execution_count": 29,
     "metadata": {},
     "output_type": "execute_result"
    }
   ],
   "source": [
    "#Restrict to USA+ON\n",
    "df = df[df.state.map(lambda x: x in keepState)]\n",
    "df.shape"
   ]
  },
  {
   "cell_type": "code",
   "execution_count": 31,
   "metadata": {
    "collapsed": false
   },
   "outputs": [
    {
     "data": {
      "text/plain": [
       "(17914, 15)"
      ]
     },
     "execution_count": 31,
     "metadata": {},
     "output_type": "execute_result"
    }
   ],
   "source": [
    "#Restrict to Restaurants.\n",
    "df = df[df.categories.map(lambda x: \"Restaurants\" in x)]\n",
    "df.shape"
   ]
  },
  {
   "cell_type": "markdown",
   "metadata": {},
   "source": [
    "Save USA+ON Restaurants to a file!"
   ]
  },
  {
   "cell_type": "code",
   "execution_count": 36,
   "metadata": {
    "collapsed": false
   },
   "outputs": [],
   "source": [
    "#I want to save this as a file, but I get errors.  The first error is complaining \n",
    "# about an accented e in the data... \n",
    "\n",
    "df.to_csv(\"yelp_business.csv\", encoding='utf-8')"
   ]
  },
  {
   "cell_type": "markdown",
   "metadata": {},
   "source": [
    "This file above is useful for all restaurants.  We also need a file that can tell us just the restaurants with a lot of reviews."
   ]
  },
  {
   "cell_type": "code",
   "execution_count": 40,
   "metadata": {
    "collapsed": false
   },
   "outputs": [
    {
     "name": "stdout",
     "output_type": "stream",
     "text": [
      "We're continuing with 2595 restaurant, with 100+ reviews.\n"
     ]
    }
   ],
   "source": [
    "#Restrict to restaurants with >=100 reviews.\n",
    "restaurantsMR = df[df.review_count>=100]\n",
    "print \"We're continuing with %d restaurant, with 100+ reviews.\" %len(restaurantsMR)"
   ]
  },
  {
   "cell_type": "code",
   "execution_count": 41,
   "metadata": {
    "collapsed": false
   },
   "outputs": [
    {
     "name": "stdout",
     "output_type": "stream",
     "text": [
      "(2595, 3)\n"
     ]
    },
    {
     "data": {
      "text/html": [
       "<div>\n",
       "<table border=\"1\" class=\"dataframe\">\n",
       "  <thead>\n",
       "    <tr style=\"text-align: right;\">\n",
       "      <th></th>\n",
       "      <th>business_id</th>\n",
       "      <th>review_count</th>\n",
       "      <th>stars</th>\n",
       "    </tr>\n",
       "  </thead>\n",
       "  <tbody>\n",
       "    <tr>\n",
       "      <th>136</th>\n",
       "      <td>2SwC8wqpZC4B9iFVTgYT9A</td>\n",
       "      <td>199</td>\n",
       "      <td>4.0</td>\n",
       "    </tr>\n",
       "    <tr>\n",
       "      <th>137</th>\n",
       "      <td>PzG0XmAmtXFs6Fdnubf41g</td>\n",
       "      <td>143</td>\n",
       "      <td>4.0</td>\n",
       "    </tr>\n",
       "    <tr>\n",
       "      <th>166</th>\n",
       "      <td>IxQ1ATP_Wg_QujO9nywzcQ</td>\n",
       "      <td>110</td>\n",
       "      <td>4.0</td>\n",
       "    </tr>\n",
       "    <tr>\n",
       "      <th>237</th>\n",
       "      <td>2Igiyhi82R8_QaaPplRmCw</td>\n",
       "      <td>173</td>\n",
       "      <td>4.5</td>\n",
       "    </tr>\n",
       "    <tr>\n",
       "      <th>255</th>\n",
       "      <td>2X5G4Ujq0s4Wfn4TC7gX0g</td>\n",
       "      <td>225</td>\n",
       "      <td>4.5</td>\n",
       "    </tr>\n",
       "  </tbody>\n",
       "</table>\n",
       "</div>"
      ],
      "text/plain": [
       "                business_id  review_count  stars\n",
       "136  2SwC8wqpZC4B9iFVTgYT9A           199    4.0\n",
       "137  PzG0XmAmtXFs6Fdnubf41g           143    4.0\n",
       "166  IxQ1ATP_Wg_QujO9nywzcQ           110    4.0\n",
       "237  2Igiyhi82R8_QaaPplRmCw           173    4.5\n",
       "255  2X5G4Ujq0s4Wfn4TC7gX0g           225    4.5"
      ]
     },
     "execution_count": 41,
     "metadata": {},
     "output_type": "execute_result"
    }
   ],
   "source": [
    "#Make a smaller DataFrame with 3 attributes: BusinessID, NumRevs, Stars\n",
    "\n",
    "keyattrib = restaurantsMR[[\"business_id\",\"review_count\", \"stars\"]]\n",
    "\n",
    "print keyattrib.shape\n",
    "keyattrib.head()"
   ]
  },
  {
   "cell_type": "code",
   "execution_count": 42,
   "metadata": {
    "collapsed": false
   },
   "outputs": [
    {
     "name": "stdout",
     "output_type": "stream",
     "text": [
      "Number of these restaurants with >4 stars:  312\n",
      "Number of these restaurants with <3 stars:  70\n"
     ]
    }
   ],
   "source": [
    "print \"Number of these restaurants with >4 stars: \", len(keyattrib[keyattrib.stars>4])\n",
    "print \"Number of these restaurants with <3 stars: \", len(keyattrib[keyattrib.stars<3])\n"
   ]
  },
  {
   "cell_type": "code",
   "execution_count": 43,
   "metadata": {
    "collapsed": true
   },
   "outputs": [],
   "source": [
    "#Save three files for 'keyattribs' info on all, good, and bad restaurants with >100 reviews.\n",
    "keyattrib.to_csv(\"restos100plusrevsALL.csv\")\n",
    "keyattrib[keyattrib.stars>4].to_csv(\"restos100plusrevsGOOD.csv\")\n",
    "keyattrib[keyattrib.stars<3].to_csv(\"restos100plusrevsBAD.csv\")"
   ]
  },
  {
   "cell_type": "code",
   "execution_count": null,
   "metadata": {
    "collapsed": true
   },
   "outputs": [],
   "source": []
  }
 ],
 "metadata": {
  "kernelspec": {
   "display_name": "Python 2",
   "language": "python",
   "name": "python2"
  },
  "language_info": {
   "codemirror_mode": {
    "name": "ipython",
    "version": 2
   },
   "file_extension": ".py",
   "mimetype": "text/x-python",
   "name": "python",
   "nbconvert_exporter": "python",
   "pygments_lexer": "ipython2",
   "version": "2.7.9"
  }
 },
 "nbformat": 4,
 "nbformat_minor": 0
}
